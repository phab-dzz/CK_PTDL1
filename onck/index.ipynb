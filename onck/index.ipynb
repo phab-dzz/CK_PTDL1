{
 "cells": [
  {
   "cell_type": "code",
   "execution_count": 1,
   "id": "174272ef",
   "metadata": {},
   "outputs": [
    {
     "name": "stdout",
     "output_type": "stream",
     "text": [
      "Hệ số tự do (intercept) của mô hình huấn luyện là:\n",
      "37.72824962136811\n"
     ]
    }
   ],
   "source": [
    "import numpy as np\n",
    "import pandas as pd\n",
    "from sklearn.model_selection import train_test_split\n",
    "from sklearn.preprocessing import FunctionTransformer, PolynomialFeatures\n",
    "from sklearn.linear_model import LinearRegression\n",
    "from sklearn.pipeline import Pipeline\n",
    "\n",
    "# Đọc dữ liệu từ file 'boston.csv'\n",
    "data = pd.read_csv('boston.csv')\n",
    "\n",
    "# Chọn các đặc trưng 'age' và 'lstat' và biến mục tiêu 'medv'\n",
    "X = data[['AGE', 'LSTAT']]\n",
    "y = data['MEDV']\n",
    "\n",
    "# Chia dữ liệu thành tập huấn luyện và tập kiểm thử theo tỉ lệ 75:25 với random_state=16\n",
    "X_train, X_test, y_train, y_test = train_test_split(X, y, test_size=0.25, random_state=16)\n",
    "\n",
    "# Định nghĩa hàm SiLu: SiLu(x) = x / (1 + exp(-x))\n",
    "def silu_transform(x):\n",
    "    return x / (1 + np.exp(-x))\n",
    "\n",
    "# Tạo transformer cho SiLu và đối tượng PolynomialFeatures với degree=2 (không thêm bias)\n",
    "silu_transformer = FunctionTransformer(silu_transform)\n",
    "poly_transformer = PolynomialFeatures(degree=2, include_bias=False)\n",
    "\n",
    "# Xây dựng pipeline gồm các bước:\n",
    "# 1. Áp dụng SiLu Transformation\n",
    "# 2. Mở rộng đặc trưng bằng PolynomialFeatures (degree=2)\n",
    "# 3. Huấn luyện mô hình Linear Regression\n",
    "pipeline = Pipeline([\n",
    "    ('silu', silu_transformer),\n",
    "    ('poly', poly_transformer),\n",
    "    ('lr', LinearRegression())\n",
    "])\n",
    "\n",
    "# Huấn luyện mô hình trên tập huấn luyện\n",
    "pipeline.fit(X_train, y_train)\n",
    "\n",
    "# Lấy hệ số tự do từ mô hình Linear Regression đã được huấn luyện\n",
    "intercept = pipeline.named_steps['lr'].intercept_\n",
    "\n",
    "print(\"Hệ số tự do (intercept) của mô hình huấn luyện là:\")\n",
    "print(intercept)\n"
   ]
  },
  {
   "cell_type": "code",
   "execution_count": 3,
   "id": "db6ab1bc",
   "metadata": {},
   "outputs": [
    {
     "name": "stdout",
     "output_type": "stream",
     "text": [
      "Dòng đầu tiên của đặc trưng sau khi đặc trưng hóa trên tập huấn luyện:\n",
      "AGE            95.200000\n",
      "LSTAT          11.319863\n",
      "AGE^2        9063.040000\n",
      "AGE LSTAT    1077.650930\n",
      "LSTAT^2       128.139292\n",
      "Name: 378, dtype: float64\n"
     ]
    }
   ],
   "source": [
    "import numpy as np\n",
    "import pandas as pd\n",
    "from sklearn.model_selection import train_test_split\n",
    "from sklearn.preprocessing import FunctionTransformer, PolynomialFeatures\n",
    "\n",
    "# Đọc dữ liệu từ file\n",
    "data = pd.read_csv('boston.csv')\n",
    "X = data[['AGE', 'LSTAT']]\n",
    "y = data['MEDV']\n",
    "# Chia dữ liệu: 75% train, 25% test\n",
    "X_train, X_test, y_train, y_test = train_test_split(X, y, test_size=0.25, random_state=16)\n",
    "\n",
    "# Định nghĩa hàm SiLu\n",
    "def silu_transform(x):\n",
    "    return x / (1 + np.exp(-x))\n",
    "\n",
    "# Áp dụng SiLu transformation\n",
    "silu_transformer = FunctionTransformer(silu_transform)\n",
    "X_train_silu = silu_transformer.fit_transform(X_train)\n",
    "\n",
    "# Áp dụng PolynomialFeatures bậc 2\n",
    "poly = PolynomialFeatures(degree=2, include_bias=False)\n",
    "X_train_poly = poly.fit_transform(X_train_silu)\n",
    "\n",
    "# Lấy tên các đặc trưng sau khi biến đổi\n",
    "feature_names = poly.get_feature_names_out(input_features=['AGE', 'LSTAT'])\n",
    "\n",
    "# Biến thành DataFrame để dễ xem\n",
    "X_train_poly_df = pd.DataFrame(X_train_poly, columns=feature_names)\n",
    "\n",
    "# In dòng đầu tiên\n",
    "print(\"Dòng đầu tiên của đặc trưng sau khi đặc trưng hóa trên tập huấn luyện:\")\n",
    "print(X_train_poly_df.iloc[-1])\n"
   ]
  }
 ],
 "metadata": {
  "kernelspec": {
   "display_name": "Python 3",
   "language": "python",
   "name": "python3"
  },
  "language_info": {
   "codemirror_mode": {
    "name": "ipython",
    "version": 3
   },
   "file_extension": ".py",
   "mimetype": "text/x-python",
   "name": "python",
   "nbconvert_exporter": "python",
   "pygments_lexer": "ipython3",
   "version": "3.13.2"
  }
 },
 "nbformat": 4,
 "nbformat_minor": 5
}
