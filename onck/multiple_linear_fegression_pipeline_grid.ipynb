{
 "cells": [
  {
   "cell_type": "code",
   "execution_count": 3,
   "id": "704c1ec4",
   "metadata": {},
   "outputs": [],
   "source": [
    "import numpy as np\n",
    "import pandas as pd\n"
   ]
  },
  {
   "cell_type": "code",
   "execution_count": 4,
   "id": "7713396f",
   "metadata": {},
   "outputs": [
    {
     "data": {
      "text/html": [
       "<div>\n",
       "<style scoped>\n",
       "    .dataframe tbody tr th:only-of-type {\n",
       "        vertical-align: middle;\n",
       "    }\n",
       "\n",
       "    .dataframe tbody tr th {\n",
       "        vertical-align: top;\n",
       "    }\n",
       "\n",
       "    .dataframe thead th {\n",
       "        text-align: right;\n",
       "    }\n",
       "</style>\n",
       "<table border=\"1\" class=\"dataframe\">\n",
       "  <thead>\n",
       "    <tr style=\"text-align: right;\">\n",
       "      <th></th>\n",
       "      <th>gold</th>\n",
       "      <th>estate</th>\n",
       "      <th>cryto</th>\n",
       "      <th>stock</th>\n",
       "      <th>class</th>\n",
       "      <th>risk</th>\n",
       "      <th>profit</th>\n",
       "    </tr>\n",
       "  </thead>\n",
       "  <tbody>\n",
       "    <tr>\n",
       "      <th>0</th>\n",
       "      <td>14.96</td>\n",
       "      <td>41.76</td>\n",
       "      <td>1024.07</td>\n",
       "      <td>73.17</td>\n",
       "      <td>B</td>\n",
       "      <td>Y</td>\n",
       "      <td>463.26</td>\n",
       "    </tr>\n",
       "    <tr>\n",
       "      <th>1</th>\n",
       "      <td>25.18</td>\n",
       "      <td>62.96</td>\n",
       "      <td>1020.04</td>\n",
       "      <td>59.08</td>\n",
       "      <td>B</td>\n",
       "      <td>N</td>\n",
       "      <td>444.37</td>\n",
       "    </tr>\n",
       "    <tr>\n",
       "      <th>2</th>\n",
       "      <td>5.11</td>\n",
       "      <td>39.40</td>\n",
       "      <td>1012.16</td>\n",
       "      <td>92.14</td>\n",
       "      <td>B</td>\n",
       "      <td>N</td>\n",
       "      <td>488.56</td>\n",
       "    </tr>\n",
       "    <tr>\n",
       "      <th>3</th>\n",
       "      <td>20.86</td>\n",
       "      <td>57.32</td>\n",
       "      <td>1010.24</td>\n",
       "      <td>76.64</td>\n",
       "      <td>B</td>\n",
       "      <td>Y</td>\n",
       "      <td>446.48</td>\n",
       "    </tr>\n",
       "    <tr>\n",
       "      <th>4</th>\n",
       "      <td>10.82</td>\n",
       "      <td>37.50</td>\n",
       "      <td>1009.23</td>\n",
       "      <td>96.62</td>\n",
       "      <td>C</td>\n",
       "      <td>N</td>\n",
       "      <td>473.90</td>\n",
       "    </tr>\n",
       "    <tr>\n",
       "      <th>...</th>\n",
       "      <td>...</td>\n",
       "      <td>...</td>\n",
       "      <td>...</td>\n",
       "      <td>...</td>\n",
       "      <td>...</td>\n",
       "      <td>...</td>\n",
       "      <td>...</td>\n",
       "    </tr>\n",
       "    <tr>\n",
       "      <th>9563</th>\n",
       "      <td>16.65</td>\n",
       "      <td>49.69</td>\n",
       "      <td>1014.01</td>\n",
       "      <td>91.00</td>\n",
       "      <td>C</td>\n",
       "      <td>N</td>\n",
       "      <td>460.03</td>\n",
       "    </tr>\n",
       "    <tr>\n",
       "      <th>9564</th>\n",
       "      <td>13.19</td>\n",
       "      <td>39.18</td>\n",
       "      <td>1023.67</td>\n",
       "      <td>66.78</td>\n",
       "      <td>A</td>\n",
       "      <td>Y</td>\n",
       "      <td>469.62</td>\n",
       "    </tr>\n",
       "    <tr>\n",
       "      <th>9565</th>\n",
       "      <td>31.32</td>\n",
       "      <td>74.33</td>\n",
       "      <td>1012.92</td>\n",
       "      <td>36.48</td>\n",
       "      <td>A</td>\n",
       "      <td>N</td>\n",
       "      <td>429.57</td>\n",
       "    </tr>\n",
       "    <tr>\n",
       "      <th>9566</th>\n",
       "      <td>24.48</td>\n",
       "      <td>69.45</td>\n",
       "      <td>1013.86</td>\n",
       "      <td>62.39</td>\n",
       "      <td>A</td>\n",
       "      <td>N</td>\n",
       "      <td>435.74</td>\n",
       "    </tr>\n",
       "    <tr>\n",
       "      <th>9567</th>\n",
       "      <td>21.60</td>\n",
       "      <td>62.52</td>\n",
       "      <td>1017.23</td>\n",
       "      <td>67.87</td>\n",
       "      <td>B</td>\n",
       "      <td>N</td>\n",
       "      <td>453.28</td>\n",
       "    </tr>\n",
       "  </tbody>\n",
       "</table>\n",
       "<p>9568 rows × 7 columns</p>\n",
       "</div>"
      ],
      "text/plain": [
       "       gold  estate    cryto  stock class risk  profit\n",
       "0     14.96   41.76  1024.07  73.17     B    Y  463.26\n",
       "1     25.18   62.96  1020.04  59.08     B    N  444.37\n",
       "2      5.11   39.40  1012.16  92.14     B    N  488.56\n",
       "3     20.86   57.32  1010.24  76.64     B    Y  446.48\n",
       "4     10.82   37.50  1009.23  96.62     C    N  473.90\n",
       "...     ...     ...      ...    ...   ...  ...     ...\n",
       "9563  16.65   49.69  1014.01  91.00     C    N  460.03\n",
       "9564  13.19   39.18  1023.67  66.78     A    Y  469.62\n",
       "9565  31.32   74.33  1012.92  36.48     A    N  429.57\n",
       "9566  24.48   69.45  1013.86  62.39     A    N  435.74\n",
       "9567  21.60   62.52  1017.23  67.87     B    N  453.28\n",
       "\n",
       "[9568 rows x 7 columns]"
      ]
     },
     "execution_count": 4,
     "metadata": {},
     "output_type": "execute_result"
    }
   ],
   "source": [
    "df=pd.read_csv('../data/profit_full.csv')\n",
    "df"
   ]
  },
  {
   "cell_type": "code",
   "execution_count": 6,
   "id": "75134ca8",
   "metadata": {},
   "outputs": [
    {
     "name": "stdout",
     "output_type": "stream",
     "text": [
      "<class 'pandas.core.frame.DataFrame'>\n",
      "RangeIndex: 9568 entries, 0 to 9567\n",
      "Data columns (total 7 columns):\n",
      " #   Column  Non-Null Count  Dtype  \n",
      "---  ------  --------------  -----  \n",
      " 0   gold    9568 non-null   float64\n",
      " 1   estate  9568 non-null   float64\n",
      " 2   cryto   9568 non-null   float64\n",
      " 3   stock   9568 non-null   float64\n",
      " 4   class   9568 non-null   object \n",
      " 5   risk    9568 non-null   object \n",
      " 6   profit  9568 non-null   float64\n",
      "dtypes: float64(5), object(2)\n",
      "memory usage: 523.4+ KB\n"
     ]
    }
   ],
   "source": [
    "df.info()"
   ]
  },
  {
   "cell_type": "code",
   "execution_count": 7,
   "id": "cfa81cfc",
   "metadata": {},
   "outputs": [
    {
     "name": "stdout",
     "output_type": "stream",
     "text": [
      "               gold       estate        cryto        stock class  risk  \\\n",
      "count   9568.000000  9568.000000  9568.000000  9568.000000  9568  9568   \n",
      "unique          NaN          NaN          NaN          NaN     3     2   \n",
      "top             NaN          NaN          NaN          NaN     C     N   \n",
      "freq            NaN          NaN          NaN          NaN  4433  4851   \n",
      "mean      19.651231    54.305804  1013.259078    73.308978   NaN   NaN   \n",
      "std        7.452473    12.707893     5.938784    14.600269   NaN   NaN   \n",
      "min        1.810000    25.360000   992.890000    25.560000   NaN   NaN   \n",
      "25%       13.510000    41.740000  1009.100000    63.327500   NaN   NaN   \n",
      "50%       20.345000    52.080000  1012.940000    74.975000   NaN   NaN   \n",
      "75%       25.720000    66.540000  1017.260000    84.830000   NaN   NaN   \n",
      "max       37.110000    81.560000  1033.300000   100.160000   NaN   NaN   \n",
      "\n",
      "             profit  \n",
      "count   9568.000000  \n",
      "unique          NaN  \n",
      "top             NaN  \n",
      "freq            NaN  \n",
      "mean     454.365009  \n",
      "std       17.066995  \n",
      "min      420.260000  \n",
      "25%      439.750000  \n",
      "50%      451.550000  \n",
      "75%      468.430000  \n",
      "max      495.760000  \n"
     ]
    }
   ],
   "source": [
    "print(df.describe(include='all'))"
   ]
  },
  {
   "cell_type": "code",
   "execution_count": 8,
   "id": "5b13d52c",
   "metadata": {},
   "outputs": [],
   "source": [
    "# biến mục tiêu\n",
    "X=df.iloc[:,:-1]\n",
    "y=df.iloc[:,-1]"
   ]
  },
  {
   "cell_type": "code",
   "execution_count": 17,
   "id": "08a389c0",
   "metadata": {},
   "outputs": [],
   "source": [
    "from sklearn.model_selection import train_test_split\n",
    "X_train, X_test, y_train, y_test = train_test_split(X, y, test_size=0.25, random_state=42)"
   ]
  },
  {
   "cell_type": "code",
   "execution_count": 18,
   "id": "cbddefc0",
   "metadata": {},
   "outputs": [],
   "source": [
    "from sklearn.pipeline import Pipeline\n",
    "\n",
    "from sklearn.preprocessing import Normalizer,StandardScaler, MinMaxScaler,PowerTransformer,PolynomialFeatures\n",
    "from sklearn.linear_model import LinearRegression\n",
    "from sklearn.compose import make_column_transformer\n",
    "from sklearn.preprocessing import OneHotEncoder\n",
    "column_trans=make_column_transformer(\n",
    "    (OneHotEncoder(), ['class','risk']),\n",
    "    (Normalizer(), ['cryto','stock']),\n",
    "    remainder= 'passthrough'\n",
    ")\n",
    "pipe=Pipeline([\n",
    "    ('columntransformer', column_trans),\n",
    "    ('std_scaler', StandardScaler()),\n",
    "    ('poly_fe', PolynomialFeatures(degree=4)),\n",
    "    ('power_fe', PowerTransformer(copy=True,method='yeo-johnson',standardize=True)),\n",
    "    ('mm_scaler', MinMaxScaler()),\n",
    "    ('mlr_model', LinearRegression())\n",
    "])\n"
   ]
  },
  {
   "cell_type": "code",
   "execution_count": 19,
   "id": "79037d27",
   "metadata": {},
   "outputs": [
    {
     "name": "stdout",
     "output_type": "stream",
     "text": [
      "Training set score: 0.9453248520901422\n",
      "Test set score: 0.9210177517080445\n"
     ]
    }
   ],
   "source": [
    "pipe.fit(X_train, y_train)\n",
    "print('Training set score:', str(pipe.score(X_train, y_train)))\n",
    "print('Test set score:', str(pipe.score(X_test, y_test)))"
   ]
  },
  {
   "cell_type": "code",
   "execution_count": 28,
   "id": "6fd8f7bd",
   "metadata": {},
   "outputs": [
    {
     "name": "stdout",
     "output_type": "stream",
     "text": [
      "dict_keys(['memory', 'steps', 'transform_input', 'verbose', 'columntransformer', 'std_scaler', 'poly_fe', 'power_fe', 'mm_scaler', 'mlr_model', 'columntransformer__force_int_remainder_cols', 'columntransformer__n_jobs', 'columntransformer__remainder', 'columntransformer__sparse_threshold', 'columntransformer__transformer_weights', 'columntransformer__transformers', 'columntransformer__verbose', 'columntransformer__verbose_feature_names_out', 'columntransformer__onehotencoder', 'columntransformer__normalizer', 'columntransformer__onehotencoder__categories', 'columntransformer__onehotencoder__drop', 'columntransformer__onehotencoder__dtype', 'columntransformer__onehotencoder__feature_name_combiner', 'columntransformer__onehotencoder__handle_unknown', 'columntransformer__onehotencoder__max_categories', 'columntransformer__onehotencoder__min_frequency', 'columntransformer__onehotencoder__sparse_output', 'columntransformer__normalizer__copy', 'columntransformer__normalizer__norm', 'std_scaler__copy', 'std_scaler__with_mean', 'std_scaler__with_std', 'poly_fe__degree', 'poly_fe__include_bias', 'poly_fe__interaction_only', 'poly_fe__order', 'power_fe__copy', 'power_fe__method', 'power_fe__standardize', 'mm_scaler__clip', 'mm_scaler__copy', 'mm_scaler__feature_range', 'mlr_model__copy_X', 'mlr_model__fit_intercept', 'mlr_model__n_jobs', 'mlr_model__positive'])\n"
     ]
    }
   ],
   "source": [
    "print(pipe.get_params().keys())"
   ]
  },
  {
   "cell_type": "code",
   "execution_count": 29,
   "id": "9fabdee1",
   "metadata": {},
   "outputs": [
    {
     "name": "stdout",
     "output_type": "stream",
     "text": [
      "{'memory': None, 'steps': [('columntransformer', ColumnTransformer(remainder='passthrough',\n",
      "                  transformers=[('onehotencoder', OneHotEncoder(),\n",
      "                                 ['class', 'risk']),\n",
      "                                ('normalizer', Normalizer(),\n",
      "                                 ['cryto', 'stock'])])), ('std_scaler', StandardScaler()), ('poly_fe', PolynomialFeatures(degree=4)), ('power_fe', PowerTransformer()), ('mm_scaler', MinMaxScaler()), ('mlr_model', LinearRegression())], 'transform_input': None, 'verbose': False, 'columntransformer': ColumnTransformer(remainder='passthrough',\n",
      "                  transformers=[('onehotencoder', OneHotEncoder(),\n",
      "                                 ['class', 'risk']),\n",
      "                                ('normalizer', Normalizer(),\n",
      "                                 ['cryto', 'stock'])]), 'std_scaler': StandardScaler(), 'poly_fe': PolynomialFeatures(degree=4), 'power_fe': PowerTransformer(), 'mm_scaler': MinMaxScaler(), 'mlr_model': LinearRegression(), 'columntransformer__force_int_remainder_cols': True, 'columntransformer__n_jobs': None, 'columntransformer__remainder': 'passthrough', 'columntransformer__sparse_threshold': 0.3, 'columntransformer__transformer_weights': None, 'columntransformer__transformers': [('onehotencoder', OneHotEncoder(), ['class', 'risk']), ('normalizer', Normalizer(), ['cryto', 'stock'])], 'columntransformer__verbose': False, 'columntransformer__verbose_feature_names_out': True, 'columntransformer__onehotencoder': OneHotEncoder(), 'columntransformer__normalizer': Normalizer(), 'columntransformer__onehotencoder__categories': 'auto', 'columntransformer__onehotencoder__drop': None, 'columntransformer__onehotencoder__dtype': <class 'numpy.float64'>, 'columntransformer__onehotencoder__feature_name_combiner': 'concat', 'columntransformer__onehotencoder__handle_unknown': 'error', 'columntransformer__onehotencoder__max_categories': None, 'columntransformer__onehotencoder__min_frequency': None, 'columntransformer__onehotencoder__sparse_output': True, 'columntransformer__normalizer__copy': True, 'columntransformer__normalizer__norm': 'l2', 'std_scaler__copy': True, 'std_scaler__with_mean': True, 'std_scaler__with_std': True, 'poly_fe__degree': 4, 'poly_fe__include_bias': True, 'poly_fe__interaction_only': False, 'poly_fe__order': 'C', 'power_fe__copy': True, 'power_fe__method': 'yeo-johnson', 'power_fe__standardize': True, 'mm_scaler__clip': False, 'mm_scaler__copy': True, 'mm_scaler__feature_range': (0, 1), 'mlr_model__copy_X': True, 'mlr_model__fit_intercept': True, 'mlr_model__n_jobs': None, 'mlr_model__positive': False}\n"
     ]
    }
   ],
   "source": [
    "print(pipe.get_params())"
   ]
  },
  {
   "cell_type": "code",
   "execution_count": 30,
   "id": "7f23e651",
   "metadata": {},
   "outputs": [
    {
     "name": "stdout",
     "output_type": "stream",
     "text": [
      "-5067689828.868287\n",
      "[-1.48e+04  1.46e+05  2.35e+05 -6.57e+05  3.70e+05  2.28e+05  2.76e+09\n",
      "  2.12e+09 -1.87e+06 -8.02e+06  2.10e+05 -3.24e+05  2.38e+05  5.63e+06\n",
      " -5.62e+06  1.86e+08 -1.11e+09 -5.44e+07 -4.55e+05  3.34e+05  2.41e+05\n",
      " -2.88e+06  2.91e+06  1.64e+09  3.25e+09 -7.26e+07 -2.21e+07 -6.70e+05\n",
      " -4.13e+06  4.21e+06  2.83e+09  6.88e+08 -9.27e+04  6.70e+06  4.90e+05\n",
      " -4.87e+05  5.62e+08  5.99e+08  1.34e+06  2.06e+07  4.81e+05 -5.62e+08\n",
      " -5.99e+08 -1.34e+06 -2.15e+07  8.87e+05  2.24e+06  6.23e+03 -2.77e+04\n",
      "  8.24e+05  4.04e+03 -1.78e+04  4.96e+02  6.12e+03  2.16e+03  2.63e+05\n",
      "  3.28e+04 -7.29e+05  3.73e+06 -3.67e+06  9.34e+08 -2.48e+09  6.43e+07\n",
      " -5.32e+06 -1.29e+05  6.35e+05 -3.16e+06  3.17e+06  1.85e+08 -1.41e+09\n",
      " -7.72e+06  2.63e+07  3.84e+05 -4.04e+06  4.01e+06 -5.21e+08  3.04e+09\n",
      " -1.03e+07  5.49e+05 -6.88e+04  1.90e+05  7.14e+08 -1.13e+09 -4.71e+05\n",
      " -3.97e+06 -8.23e+04 -7.14e+08  1.13e+09  4.69e+05  3.94e+06 -2.55e+06\n",
      " -6.26e+07  1.86e+03 -7.85e+02  3.11e+07  5.41e+03 -1.32e+03 -6.07e+02\n",
      "  3.65e+02  8.86e+03  3.97e+05 -5.63e+05 -1.91e+06  1.84e+06 -2.54e+09\n",
      " -7.58e+08 -9.04e+07 -6.09e+06  4.85e+05  4.97e+06 -4.95e+06 -3.25e+08\n",
      "  2.50e+09  4.73e+05 -4.30e+06  5.36e+05 -5.25e+05 -1.07e+07 -2.08e+08\n",
      " -1.98e+06 -9.02e+06  5.77e+05  1.07e+07  2.08e+08  1.94e+06  8.38e+06\n",
      " -2.92e+07 -1.34e+08 -2.53e+03 -5.83e+02 -1.73e+08 -6.27e+03 -1.09e+03\n",
      "  3.21e+04 -5.27e+02  1.34e+04 -7.35e+05 -8.60e+05  9.31e+05 -9.01e+08\n",
      " -1.59e+09  1.85e+06  9.94e+06 -6.11e+05  5.64e+05 -1.65e+09 -3.88e+08\n",
      "  2.37e+06 -9.93e+05 -5.41e+05  1.65e+09  3.88e+08 -2.33e+06  1.02e+06\n",
      "  4.47e+08  1.39e+09  1.81e+04 -3.28e+03  1.26e+09  2.19e+04 -1.52e+03\n",
      "  6.88e+04  2.76e+02  3.07e+04 -4.79e+05  4.80e+05 -3.90e+08 -1.91e+07\n",
      "  3.30e+04  9.67e+05 -4.79e+05  3.90e+08  1.91e+07 -9.21e+04  1.61e+06\n",
      "  1.45e+07  3.69e+07  1.09e+08 -3.09e+09  3.44e+07  5.60e+06  4.33e+09\n",
      "  4.76e+06  6.51e+08 -2.28e+08  4.79e+05 -3.90e+08 -1.91e+07  2.34e+04\n",
      " -4.99e+03 -1.43e+07 -3.69e+07  1.09e+08 -3.09e+09 -3.45e+07  5.58e+06\n",
      "  4.33e+09  4.76e+06  6.51e+08 -2.28e+08 -8.74e+05 -5.33e+07 -1.59e+03\n",
      "  9.11e+02 -9.31e+07 -3.10e+03  1.84e+03  4.17e+01  1.80e+02  3.48e+02\n",
      " -2.83e+07 -1.23e+03  4.97e+02  6.74e+01  1.91e+02  3.92e+02 -6.52e+02\n",
      " -1.46e+01  1.65e+01 -1.70e+03  2.89e+05 -4.49e+05 -5.88e+04  4.39e+06\n",
      " -4.35e+06 -3.07e+08 -4.90e+07 -4.19e+06  1.79e+06  5.56e+05  2.13e+05\n",
      " -4.54e+06  4.52e+06  5.03e+08 -3.26e+08 -1.23e+07 -1.15e+07  2.52e+05\n",
      " -4.25e+06  4.25e+06 -1.31e+09 -4.08e+09  6.10e+07  4.19e+06  6.72e+05\n",
      " -5.91e+05  6.40e+07  1.72e+08  2.26e+06  5.64e+06  6.72e+05 -6.40e+07\n",
      " -1.72e+08 -2.27e+06 -7.44e+06 -1.21e+04 -4.17e+04 -8.91e+01  1.21e+03\n",
      " -1.40e+03 -1.02e+03  2.29e+03 -1.58e+02  1.02e+02 -1.62e+02 -5.94e+05\n",
      "  1.45e+05  4.59e+06 -4.60e+06 -6.74e+08 -6.99e+08 -1.68e+07 -9.41e+06\n",
      " -6.67e+05  1.57e+06 -1.61e+06 -1.21e+09 -1.02e+08 -6.16e+06  1.23e+07\n",
      " -4.62e+05  5.22e+05  3.19e+09  1.02e+09 -2.63e+06 -5.81e+06 -5.09e+05\n",
      " -3.19e+09 -1.02e+09  2.65e+06  7.60e+06 -1.94e+07 -8.56e+07  1.17e+02\n",
      "  1.14e+03 -5.01e+07  2.06e+02 -7.89e+02  1.43e+04  7.25e+02  1.88e+04\n",
      "  1.00e+05  5.96e+06 -5.94e+06  7.65e+08 -5.83e+08  3.78e+07  1.24e+07\n",
      "  3.45e+05 -3.80e+05  9.19e+07  1.94e+08  2.62e+06 -3.05e+05  2.46e+05\n",
      " -9.19e+07 -1.94e+08 -2.88e+06  3.02e+05 -3.41e+06 -3.47e+07  3.31e+03\n",
      " -4.48e+02  1.77e+07  4.27e+03  9.47e+02 -1.70e+03  1.95e+03  4.05e+03\n",
      "  5.72e+06 -5.73e+06  4.18e+08 -1.74e+07 -2.40e+04 -2.57e+06  5.71e+06\n",
      " -4.18e+08  1.75e+07  3.15e+05 -4.16e+05 -1.11e+07 -1.74e+07  7.69e+09\n",
      "  1.72e+08 -6.19e+08 -2.64e+09  2.11e+08  1.97e+05  2.38e+09  3.63e+07\n",
      " -5.71e+06  4.18e+08 -1.74e+07 -2.60e+04  2.75e+06  1.10e+07  1.74e+07\n",
      "  7.69e+09  1.72e+08  6.19e+08 -2.64e+09  2.11e+08  1.31e+05  2.38e+09\n",
      "  3.63e+07 -7.10e+07 -1.66e+07 -1.31e+03  7.17e+02 -2.46e+07  1.37e+03\n",
      "  8.84e+01 -7.51e+02  4.56e+02 -6.23e+01 -1.55e+07  1.44e+03  2.66e+01\n",
      "  7.33e+01  3.32e+02 -1.08e+02  2.00e+04  4.73e+02  5.25e+02 -1.59e+04\n",
      "  3.95e+05 -1.18e+05 -2.25e+06  2.27e+06  5.49e+08 -6.67e+06  4.00e+06\n",
      " -4.14e+05  2.29e+05  1.06e+06 -1.04e+06 -3.86e+08 -1.17e+09 -1.05e+08\n",
      " -9.40e+06  3.59e+05 -3.23e+05 -3.76e+07  5.14e+06  3.32e+06 -1.86e+07\n",
      "  2.52e+05  3.76e+07 -5.16e+06  5.73e+05  1.69e+07  2.62e+04  2.53e+04\n",
      " -5.02e+02  3.01e+03  2.43e+04 -1.51e+03  3.54e+03 -7.19e+00  1.76e+02\n",
      " -6.85e+00  1.60e+05 -2.57e+06  2.59e+06  8.44e+08 -4.85e+09  4.85e+07\n",
      "  2.05e+07 -3.10e+05  3.28e+05 -1.66e+09 -8.39e+08  1.65e+05 -1.97e+07\n",
      " -2.24e+05  1.66e+09  8.39e+08 -1.59e+05  2.19e+07 -3.91e+07 -1.30e+08\n",
      " -1.38e+03  4.52e+02 -1.76e+08 -7.57e+03  1.13e+03  4.83e+04  1.71e+03\n",
      "  1.20e+04 -2.92e+06  2.90e+06  1.27e+08  9.29e+06 -4.42e+05  1.95e+06\n",
      " -2.89e+06 -1.27e+08 -9.30e+06  5.07e+05  5.25e+05 -8.43e+06 -1.57e+07\n",
      " -4.45e+09 -2.04e+07 -1.19e+07  7.39e+07 -1.22e+08  4.23e+04  3.59e+09\n",
      "  3.70e+07  2.89e+06  1.27e+08  9.30e+06  2.47e+05 -5.71e+05  8.43e+06\n",
      "  1.57e+07 -4.45e+09 -2.04e+07  1.19e+07  7.39e+07 -1.22e+08 -2.16e+04\n",
      "  3.59e+09  3.70e+07 -6.28e+07 -9.43e+06 -2.49e+03  7.49e+02 -8.60e+06\n",
      " -1.08e+03  5.91e+02 -8.19e+02  3.38e+02 -3.10e+02 -4.08e+06  1.56e+02\n",
      "  4.67e+02  1.57e+01  2.17e+02 -3.47e+02  2.19e+04  4.55e+02  4.66e+02\n",
      " -1.37e+04 -7.96e+05 -3.73e+06  3.72e+06 -2.56e+09  1.13e+09 -4.52e+06\n",
      " -1.23e+07 -5.76e+05  6.38e+05  1.51e+09 -3.84e+08 -1.86e+06 -2.92e+07\n",
      " -5.97e+05 -1.51e+09  3.84e+08  2.00e+06  2.99e+07 -1.16e+06 -2.77e+06\n",
      " -5.88e+03  1.62e+04 -1.11e+06 -4.70e+03  1.50e+04 -1.65e+02 -3.15e+03\n",
      " -2.46e+03 -4.11e+06  4.11e+06  5.84e+08 -2.39e+07  5.25e+06 -6.61e+05\n",
      " -4.07e+06 -5.84e+08  2.39e+07 -5.25e+06  1.63e+06 -6.52e+06 -1.32e+07\n",
      " -4.89e+09  4.62e+06  4.93e+06 -5.90e+09 -1.70e+06 -6.45e+07 -7.34e+09\n",
      "  1.65e+08  4.11e+06  5.84e+08 -2.38e+07  5.25e+06 -6.88e+05  7.09e+06\n",
      "  1.32e+07 -4.89e+09  4.63e+06 -4.92e+06 -5.90e+09 -1.69e+06 -6.46e+07\n",
      " -7.34e+09  1.65e+08 -5.56e+07 -2.53e+07 -1.90e+03  9.51e+02  1.85e+08\n",
      " -5.84e+02  9.25e+02 -1.71e+03  3.61e+02 -8.48e+01  3.75e+08  7.95e+03\n",
      "  4.06e+02 -1.17e+03  3.12e+02 -8.87e+01  1.85e+04  3.23e+02  4.18e+02\n",
      " -1.90e+04  4.79e+05 -4.79e+05 -7.54e+08 -1.16e+08 -4.13e+05 -4.47e+05\n",
      "  4.79e+05  7.54e+08  1.16e+08  4.27e+05  4.33e+05  3.56e+06  4.20e+06\n",
      " -6.71e+08  4.80e+07  3.18e+05  2.72e+07  2.74e+07 -1.85e+06  1.09e+10\n",
      "  1.49e+09 -4.79e+05 -7.54e+08 -1.16e+08 -4.21e+05 -4.55e+05 -1.06e+07\n",
      " -3.68e+06 -2.95e+08  9.60e+07  5.94e+05  5.40e+07  1.23e+07 -3.71e+06\n",
      "  2.19e+10  9.42e+08  7.26e+04 -4.82e+04 -1.83e+06 -1.87e+09  6.55e+06\n",
      " -5.61e+08 -6.43e+08 -3.07e+05 -2.08e+09 -5.17e+08  7.43e+06  3.12e+09\n",
      " -1.13e+09 -2.19e+08 -3.74e+09  1.28e+07  2.15e+06  5.78e+07  1.01e+09\n",
      "  1.52e+07  4.79e+05  7.54e+08  1.16e+08  4.37e+05  4.07e+05 -1.42e+07\n",
      " -7.82e+06  3.76e+08  4.80e+07  2.90e+05  2.68e+07 -1.51e+07 -1.86e+06\n",
      "  1.10e+10 -5.52e+08  5.67e+04 -4.15e+04 -1.83e+06 -1.87e+09 -6.04e+06\n",
      " -5.61e+08 -6.43e+08 -3.07e+05 -2.08e+09 -5.17e+08 -7.41e+06  3.12e+09\n",
      " -1.13e+09 -2.19e+08 -3.74e+09  1.28e+07  2.15e+06  5.78e+07  1.01e+09\n",
      "  1.52e+07 -3.85e+04 -2.90e+05 -1.51e+02 -7.78e+02 -6.18e+05 -6.48e+02\n",
      " -2.15e+03  5.55e+01  1.92e+02  3.24e+01 -5.10e+05 -1.08e+03 -2.08e+03\n",
      "  1.12e+02  3.47e+02  6.91e+01 -1.06e+02  6.73e+00  1.14e+02 -2.90e+02\n",
      " -1.49e+05 -5.83e+02 -5.59e+02  6.16e+01  1.93e+02  3.78e+01 -1.14e+02\n",
      "  2.48e+01  1.26e+02 -3.16e+02  3.81e+01  8.74e+00  5.18e+00 -7.43e+01\n",
      " -5.15e+01]\n"
     ]
    }
   ],
   "source": [
    "print(pipe.named_steps['mlr_model'].intercept_)\n",
    "print(pipe.named_steps['mlr_model'].coef_)"
   ]
  },
  {
   "cell_type": "code",
   "execution_count": 31,
   "id": "b1751953",
   "metadata": {},
   "outputs": [
    {
     "name": "stdout",
     "output_type": "stream",
     "text": [
      "[453.78 437.93 434.82 ... 456.42 471.44 448.81]\n"
     ]
    }
   ],
   "source": [
    "y_pred=pipe.predict(X_test)\n",
    "np.set_printoptions(precision=2)\n",
    "print(y_pred)"
   ]
  },
  {
   "cell_type": "code",
   "execution_count": null,
   "id": "51d40506",
   "metadata": {},
   "outputs": [
    {
     "name": "stdout",
     "output_type": "stream",
     "text": [
      "Score or R-squared: 0.9210177517080445\n",
      "Mean Absolute Error: 3.3258665875048936\n",
      " Root mean Squared Error: 22.95865607690566\n",
      "Mean Absolute Percentage Error: 0.0073323366249662784\n"
     ]
    }
   ],
   "source": [
    "import numpy as np\n",
    "\n",
    "\n",
    "from sklearn import metrics\n",
    "y_test_pred=pipe.predict(X_test)\n",
    "\n",
    "print('Score or R-squared:',pipe.score(X_test, y_test))\n",
    "print('Mean Absolute Error:', metrics.mean_absolute_error(y_test, y_test_pred))\n",
    "print(' Root mean Squared Error:', metrics.mean_squared_error(y_test, y_test_pred))\n",
    "print('Mean Absolute Percentage Error:', metrics.mean_absolute_percentage_error(y_test, y_test_pred))"
   ]
  },
  {
   "cell_type": "code",
   "execution_count": null,
   "id": "13b665ea",
   "metadata": {},
   "outputs": [
    {
     "name": "stdout",
     "output_type": "stream",
     "text": [
      "Score or R-squared after tuning: 0.9372937830334926\n",
      "Score or R-squared after tuning: 0.9372937830334926\n"
     ]
    },
    {
     "ename": "NameError",
     "evalue": "name 'metrics' is not defined",
     "output_type": "error",
     "traceback": [
      "\u001b[1;31m---------------------------------------------------------------------------\u001b[0m",
      "\u001b[1;31mNameError\u001b[0m                                 Traceback (most recent call last)",
      "Cell \u001b[1;32mIn[20], line 12\u001b[0m\n\u001b[0;32m     10\u001b[0m y_test_pred\u001b[38;5;241m=\u001b[39mpipe\u001b[38;5;241m.\u001b[39mpredict(X_test)\n\u001b[0;32m     11\u001b[0m \u001b[38;5;28mprint\u001b[39m(\u001b[38;5;124m'\u001b[39m\u001b[38;5;124mScore or R-squared after tuning:\u001b[39m\u001b[38;5;124m'\u001b[39m, pipe\u001b[38;5;241m.\u001b[39mscore(X_test, y_test))\n\u001b[1;32m---> 12\u001b[0m \u001b[38;5;28mprint\u001b[39m(\u001b[38;5;124m'\u001b[39m\u001b[38;5;124mMean Absolute Error\u001b[39m\u001b[38;5;124m'\u001b[39m, \u001b[43mmetrics\u001b[49m\u001b[38;5;241m.\u001b[39mmean_absolute_error(y_test, y_test_pred))\n\u001b[0;32m     13\u001b[0m \u001b[38;5;28mprint\u001b[39m(\u001b[38;5;124m'\u001b[39m\u001b[38;5;124mRoot Mean Squared Error\u001b[39m\u001b[38;5;124m'\u001b[39m, metrics\u001b[38;5;241m.\u001b[39mmean_squared_error(y_test, y_test_pred))\n\u001b[0;32m     14\u001b[0m \u001b[38;5;28mprint\u001b[39m (\u001b[38;5;124m'\u001b[39m\u001b[38;5;124mMean Absolute Percentage Error\u001b[39m\u001b[38;5;124m'\u001b[39m, metrics\u001b[38;5;241m.\u001b[39mmean_absolute_percentage_error(y_test, y_test_pred))\n",
      "\u001b[1;31mNameError\u001b[0m: name 'metrics' is not defined"
     ]
    }
   ],
   "source": [
    "\n",
    "from sklearn import metrics\n",
    "best_params={\n",
    "    'mlr_model__fit_intercept': False,\n",
    "    'mlr_model__copy_X': True,\n",
    "    'mlr_model__n_jobs': 1,\n",
    "    'mlr_model__positive':True\n",
    "}\n",
    "pipe.set_params(**best_params)\n",
    "pipe.fit(X_train, y_train)\n",
    "print('Score or R-squared after tuning:', pipe.score(X_test, y_test))\n",
    "y_test_pred=pipe.predict(X_test)\n",
    "print('Score or R-squared after tuning:', pipe.score(X_test, y_test))\n",
    "print('Mean Absolute Error', metrics.mean_absolute_error(y_test, y_test_pred))\n",
    "print('Root Mean Squared Error', metrics.mean_squared_error(y_test, y_test_pred))\n",
    "print ('Mean Absolute Percentage Error', metrics.mean_absolute_percentage_error(y_test, y_test_pred))"
   ]
  },
  {
   "cell_type": "code",
   "execution_count": 21,
   "id": "ccc14507",
   "metadata": {},
   "outputs": [
    {
     "ename": "KeyboardInterrupt",
     "evalue": "",
     "output_type": "error",
     "traceback": [
      "\u001b[1;31m---------------------------------------------------------------------------\u001b[0m",
      "\u001b[1;31mKeyboardInterrupt\u001b[0m                         Traceback (most recent call last)",
      "Cell \u001b[1;32mIn[21], line 11\u001b[0m\n\u001b[0;32m      2\u001b[0m param_space \u001b[38;5;241m=\u001b[39m {\n\u001b[0;32m      3\u001b[0m     \u001b[38;5;124m'\u001b[39m\u001b[38;5;124mmlr_model__fit_intercept\u001b[39m\u001b[38;5;124m'\u001b[39m: [\u001b[38;5;28;01mTrue\u001b[39;00m, \u001b[38;5;28;01mFalse\u001b[39;00m],\n\u001b[0;32m      4\u001b[0m     \n\u001b[1;32m   (...)\u001b[0m\n\u001b[0;32m      8\u001b[0m    \n\u001b[0;32m      9\u001b[0m }\n\u001b[0;32m     10\u001b[0m random_search \u001b[38;5;241m=\u001b[39m RandomizedSearchCV(pipe, param_space, n_iter\u001b[38;5;241m=\u001b[39m\u001b[38;5;241m2\u001b[39m,cv\u001b[38;5;241m=\u001b[39m\u001b[38;5;241m5\u001b[39m)\n\u001b[1;32m---> 11\u001b[0m \u001b[43mrandom_search\u001b[49m\u001b[38;5;241;43m.\u001b[39;49m\u001b[43mfit\u001b[49m\u001b[43m(\u001b[49m\u001b[43mX_train\u001b[49m\u001b[43m,\u001b[49m\u001b[43m \u001b[49m\u001b[43my_train\u001b[49m\u001b[43m)\u001b[49m\n\u001b[0;32m     12\u001b[0m \u001b[38;5;28mprint\u001b[39m(\u001b[38;5;124m'\u001b[39m\u001b[38;5;124mBest parameters found:\u001b[39m\u001b[38;5;124m'\u001b[39m, random_search\u001b[38;5;241m.\u001b[39mbest_params_)\n\u001b[0;32m     13\u001b[0m \u001b[38;5;28mprint\u001b[39m(\u001b[38;5;124m'\u001b[39m\u001b[38;5;124mBest score:\u001b[39m\u001b[38;5;124m'\u001b[39m, random_search\u001b[38;5;241m.\u001b[39mbest_score_)\n",
      "File \u001b[1;32mc:\\Users\\LOAN\\AppData\\Local\\Programs\\Python\\Python313\\Lib\\site-packages\\sklearn\\base.py:1389\u001b[0m, in \u001b[0;36m_fit_context.<locals>.decorator.<locals>.wrapper\u001b[1;34m(estimator, *args, **kwargs)\u001b[0m\n\u001b[0;32m   1382\u001b[0m     estimator\u001b[38;5;241m.\u001b[39m_validate_params()\n\u001b[0;32m   1384\u001b[0m \u001b[38;5;28;01mwith\u001b[39;00m config_context(\n\u001b[0;32m   1385\u001b[0m     skip_parameter_validation\u001b[38;5;241m=\u001b[39m(\n\u001b[0;32m   1386\u001b[0m         prefer_skip_nested_validation \u001b[38;5;129;01mor\u001b[39;00m global_skip_validation\n\u001b[0;32m   1387\u001b[0m     )\n\u001b[0;32m   1388\u001b[0m ):\n\u001b[1;32m-> 1389\u001b[0m     \u001b[38;5;28;01mreturn\u001b[39;00m \u001b[43mfit_method\u001b[49m\u001b[43m(\u001b[49m\u001b[43mestimator\u001b[49m\u001b[43m,\u001b[49m\u001b[43m \u001b[49m\u001b[38;5;241;43m*\u001b[39;49m\u001b[43margs\u001b[49m\u001b[43m,\u001b[49m\u001b[43m \u001b[49m\u001b[38;5;241;43m*\u001b[39;49m\u001b[38;5;241;43m*\u001b[39;49m\u001b[43mkwargs\u001b[49m\u001b[43m)\u001b[49m\n",
      "File \u001b[1;32mc:\\Users\\LOAN\\AppData\\Local\\Programs\\Python\\Python313\\Lib\\site-packages\\sklearn\\model_selection\\_search.py:1024\u001b[0m, in \u001b[0;36mBaseSearchCV.fit\u001b[1;34m(self, X, y, **params)\u001b[0m\n\u001b[0;32m   1018\u001b[0m     results \u001b[38;5;241m=\u001b[39m \u001b[38;5;28mself\u001b[39m\u001b[38;5;241m.\u001b[39m_format_results(\n\u001b[0;32m   1019\u001b[0m         all_candidate_params, n_splits, all_out, all_more_results\n\u001b[0;32m   1020\u001b[0m     )\n\u001b[0;32m   1022\u001b[0m     \u001b[38;5;28;01mreturn\u001b[39;00m results\n\u001b[1;32m-> 1024\u001b[0m \u001b[38;5;28;43mself\u001b[39;49m\u001b[38;5;241;43m.\u001b[39;49m\u001b[43m_run_search\u001b[49m\u001b[43m(\u001b[49m\u001b[43mevaluate_candidates\u001b[49m\u001b[43m)\u001b[49m\n\u001b[0;32m   1026\u001b[0m \u001b[38;5;66;03m# multimetric is determined here because in the case of a callable\u001b[39;00m\n\u001b[0;32m   1027\u001b[0m \u001b[38;5;66;03m# self.scoring the return type is only known after calling\u001b[39;00m\n\u001b[0;32m   1028\u001b[0m first_test_score \u001b[38;5;241m=\u001b[39m all_out[\u001b[38;5;241m0\u001b[39m][\u001b[38;5;124m\"\u001b[39m\u001b[38;5;124mtest_scores\u001b[39m\u001b[38;5;124m\"\u001b[39m]\n",
      "File \u001b[1;32mc:\\Users\\LOAN\\AppData\\Local\\Programs\\Python\\Python313\\Lib\\site-packages\\sklearn\\model_selection\\_search.py:1951\u001b[0m, in \u001b[0;36mRandomizedSearchCV._run_search\u001b[1;34m(self, evaluate_candidates)\u001b[0m\n\u001b[0;32m   1949\u001b[0m \u001b[38;5;28;01mdef\u001b[39;00m\u001b[38;5;250m \u001b[39m\u001b[38;5;21m_run_search\u001b[39m(\u001b[38;5;28mself\u001b[39m, evaluate_candidates):\n\u001b[0;32m   1950\u001b[0m \u001b[38;5;250m    \u001b[39m\u001b[38;5;124;03m\"\"\"Search n_iter candidates from param_distributions\"\"\"\u001b[39;00m\n\u001b[1;32m-> 1951\u001b[0m     \u001b[43mevaluate_candidates\u001b[49m\u001b[43m(\u001b[49m\n\u001b[0;32m   1952\u001b[0m \u001b[43m        \u001b[49m\u001b[43mParameterSampler\u001b[49m\u001b[43m(\u001b[49m\n\u001b[0;32m   1953\u001b[0m \u001b[43m            \u001b[49m\u001b[38;5;28;43mself\u001b[39;49m\u001b[38;5;241;43m.\u001b[39;49m\u001b[43mparam_distributions\u001b[49m\u001b[43m,\u001b[49m\u001b[43m \u001b[49m\u001b[38;5;28;43mself\u001b[39;49m\u001b[38;5;241;43m.\u001b[39;49m\u001b[43mn_iter\u001b[49m\u001b[43m,\u001b[49m\u001b[43m \u001b[49m\u001b[43mrandom_state\u001b[49m\u001b[38;5;241;43m=\u001b[39;49m\u001b[38;5;28;43mself\u001b[39;49m\u001b[38;5;241;43m.\u001b[39;49m\u001b[43mrandom_state\u001b[49m\n\u001b[0;32m   1954\u001b[0m \u001b[43m        \u001b[49m\u001b[43m)\u001b[49m\n\u001b[0;32m   1955\u001b[0m \u001b[43m    \u001b[49m\u001b[43m)\u001b[49m\n",
      "File \u001b[1;32mc:\\Users\\LOAN\\AppData\\Local\\Programs\\Python\\Python313\\Lib\\site-packages\\sklearn\\model_selection\\_search.py:970\u001b[0m, in \u001b[0;36mBaseSearchCV.fit.<locals>.evaluate_candidates\u001b[1;34m(candidate_params, cv, more_results)\u001b[0m\n\u001b[0;32m    962\u001b[0m \u001b[38;5;28;01mif\u001b[39;00m \u001b[38;5;28mself\u001b[39m\u001b[38;5;241m.\u001b[39mverbose \u001b[38;5;241m>\u001b[39m \u001b[38;5;241m0\u001b[39m:\n\u001b[0;32m    963\u001b[0m     \u001b[38;5;28mprint\u001b[39m(\n\u001b[0;32m    964\u001b[0m         \u001b[38;5;124m\"\u001b[39m\u001b[38;5;124mFitting \u001b[39m\u001b[38;5;132;01m{0}\u001b[39;00m\u001b[38;5;124m folds for each of \u001b[39m\u001b[38;5;132;01m{1}\u001b[39;00m\u001b[38;5;124m candidates,\u001b[39m\u001b[38;5;124m\"\u001b[39m\n\u001b[0;32m    965\u001b[0m         \u001b[38;5;124m\"\u001b[39m\u001b[38;5;124m totalling \u001b[39m\u001b[38;5;132;01m{2}\u001b[39;00m\u001b[38;5;124m fits\u001b[39m\u001b[38;5;124m\"\u001b[39m\u001b[38;5;241m.\u001b[39mformat(\n\u001b[0;32m    966\u001b[0m             n_splits, n_candidates, n_candidates \u001b[38;5;241m*\u001b[39m n_splits\n\u001b[0;32m    967\u001b[0m         )\n\u001b[0;32m    968\u001b[0m     )\n\u001b[1;32m--> 970\u001b[0m out \u001b[38;5;241m=\u001b[39m \u001b[43mparallel\u001b[49m\u001b[43m(\u001b[49m\n\u001b[0;32m    971\u001b[0m \u001b[43m    \u001b[49m\u001b[43mdelayed\u001b[49m\u001b[43m(\u001b[49m\u001b[43m_fit_and_score\u001b[49m\u001b[43m)\u001b[49m\u001b[43m(\u001b[49m\n\u001b[0;32m    972\u001b[0m \u001b[43m        \u001b[49m\u001b[43mclone\u001b[49m\u001b[43m(\u001b[49m\u001b[43mbase_estimator\u001b[49m\u001b[43m)\u001b[49m\u001b[43m,\u001b[49m\n\u001b[0;32m    973\u001b[0m \u001b[43m        \u001b[49m\u001b[43mX\u001b[49m\u001b[43m,\u001b[49m\n\u001b[0;32m    974\u001b[0m \u001b[43m        \u001b[49m\u001b[43my\u001b[49m\u001b[43m,\u001b[49m\n\u001b[0;32m    975\u001b[0m \u001b[43m        \u001b[49m\u001b[43mtrain\u001b[49m\u001b[38;5;241;43m=\u001b[39;49m\u001b[43mtrain\u001b[49m\u001b[43m,\u001b[49m\n\u001b[0;32m    976\u001b[0m \u001b[43m        \u001b[49m\u001b[43mtest\u001b[49m\u001b[38;5;241;43m=\u001b[39;49m\u001b[43mtest\u001b[49m\u001b[43m,\u001b[49m\n\u001b[0;32m    977\u001b[0m \u001b[43m        \u001b[49m\u001b[43mparameters\u001b[49m\u001b[38;5;241;43m=\u001b[39;49m\u001b[43mparameters\u001b[49m\u001b[43m,\u001b[49m\n\u001b[0;32m    978\u001b[0m \u001b[43m        \u001b[49m\u001b[43msplit_progress\u001b[49m\u001b[38;5;241;43m=\u001b[39;49m\u001b[43m(\u001b[49m\u001b[43msplit_idx\u001b[49m\u001b[43m,\u001b[49m\u001b[43m \u001b[49m\u001b[43mn_splits\u001b[49m\u001b[43m)\u001b[49m\u001b[43m,\u001b[49m\n\u001b[0;32m    979\u001b[0m \u001b[43m        \u001b[49m\u001b[43mcandidate_progress\u001b[49m\u001b[38;5;241;43m=\u001b[39;49m\u001b[43m(\u001b[49m\u001b[43mcand_idx\u001b[49m\u001b[43m,\u001b[49m\u001b[43m \u001b[49m\u001b[43mn_candidates\u001b[49m\u001b[43m)\u001b[49m\u001b[43m,\u001b[49m\n\u001b[0;32m    980\u001b[0m \u001b[43m        \u001b[49m\u001b[38;5;241;43m*\u001b[39;49m\u001b[38;5;241;43m*\u001b[39;49m\u001b[43mfit_and_score_kwargs\u001b[49m\u001b[43m,\u001b[49m\n\u001b[0;32m    981\u001b[0m \u001b[43m    \u001b[49m\u001b[43m)\u001b[49m\n\u001b[0;32m    982\u001b[0m \u001b[43m    \u001b[49m\u001b[38;5;28;43;01mfor\u001b[39;49;00m\u001b[43m \u001b[49m\u001b[43m(\u001b[49m\u001b[43mcand_idx\u001b[49m\u001b[43m,\u001b[49m\u001b[43m \u001b[49m\u001b[43mparameters\u001b[49m\u001b[43m)\u001b[49m\u001b[43m,\u001b[49m\u001b[43m \u001b[49m\u001b[43m(\u001b[49m\u001b[43msplit_idx\u001b[49m\u001b[43m,\u001b[49m\u001b[43m \u001b[49m\u001b[43m(\u001b[49m\u001b[43mtrain\u001b[49m\u001b[43m,\u001b[49m\u001b[43m \u001b[49m\u001b[43mtest\u001b[49m\u001b[43m)\u001b[49m\u001b[43m)\u001b[49m\u001b[43m \u001b[49m\u001b[38;5;129;43;01min\u001b[39;49;00m\u001b[43m \u001b[49m\u001b[43mproduct\u001b[49m\u001b[43m(\u001b[49m\n\u001b[0;32m    983\u001b[0m \u001b[43m        \u001b[49m\u001b[38;5;28;43menumerate\u001b[39;49m\u001b[43m(\u001b[49m\u001b[43mcandidate_params\u001b[49m\u001b[43m)\u001b[49m\u001b[43m,\u001b[49m\n\u001b[0;32m    984\u001b[0m \u001b[43m        \u001b[49m\u001b[38;5;28;43menumerate\u001b[39;49m\u001b[43m(\u001b[49m\u001b[43mcv\u001b[49m\u001b[38;5;241;43m.\u001b[39;49m\u001b[43msplit\u001b[49m\u001b[43m(\u001b[49m\u001b[43mX\u001b[49m\u001b[43m,\u001b[49m\u001b[43m \u001b[49m\u001b[43my\u001b[49m\u001b[43m,\u001b[49m\u001b[43m \u001b[49m\u001b[38;5;241;43m*\u001b[39;49m\u001b[38;5;241;43m*\u001b[39;49m\u001b[43mrouted_params\u001b[49m\u001b[38;5;241;43m.\u001b[39;49m\u001b[43msplitter\u001b[49m\u001b[38;5;241;43m.\u001b[39;49m\u001b[43msplit\u001b[49m\u001b[43m)\u001b[49m\u001b[43m)\u001b[49m\u001b[43m,\u001b[49m\n\u001b[0;32m    985\u001b[0m \u001b[43m    \u001b[49m\u001b[43m)\u001b[49m\n\u001b[0;32m    986\u001b[0m \u001b[43m\u001b[49m\u001b[43m)\u001b[49m\n\u001b[0;32m    988\u001b[0m \u001b[38;5;28;01mif\u001b[39;00m \u001b[38;5;28mlen\u001b[39m(out) \u001b[38;5;241m<\u001b[39m \u001b[38;5;241m1\u001b[39m:\n\u001b[0;32m    989\u001b[0m     \u001b[38;5;28;01mraise\u001b[39;00m \u001b[38;5;167;01mValueError\u001b[39;00m(\n\u001b[0;32m    990\u001b[0m         \u001b[38;5;124m\"\u001b[39m\u001b[38;5;124mNo fits were performed. \u001b[39m\u001b[38;5;124m\"\u001b[39m\n\u001b[0;32m    991\u001b[0m         \u001b[38;5;124m\"\u001b[39m\u001b[38;5;124mWas the CV iterator empty? \u001b[39m\u001b[38;5;124m\"\u001b[39m\n\u001b[0;32m    992\u001b[0m         \u001b[38;5;124m\"\u001b[39m\u001b[38;5;124mWere there no candidates?\u001b[39m\u001b[38;5;124m\"\u001b[39m\n\u001b[0;32m    993\u001b[0m     )\n",
      "File \u001b[1;32mc:\\Users\\LOAN\\AppData\\Local\\Programs\\Python\\Python313\\Lib\\site-packages\\sklearn\\utils\\parallel.py:77\u001b[0m, in \u001b[0;36mParallel.__call__\u001b[1;34m(self, iterable)\u001b[0m\n\u001b[0;32m     72\u001b[0m config \u001b[38;5;241m=\u001b[39m get_config()\n\u001b[0;32m     73\u001b[0m iterable_with_config \u001b[38;5;241m=\u001b[39m (\n\u001b[0;32m     74\u001b[0m     (_with_config(delayed_func, config), args, kwargs)\n\u001b[0;32m     75\u001b[0m     \u001b[38;5;28;01mfor\u001b[39;00m delayed_func, args, kwargs \u001b[38;5;129;01min\u001b[39;00m iterable\n\u001b[0;32m     76\u001b[0m )\n\u001b[1;32m---> 77\u001b[0m \u001b[38;5;28;01mreturn\u001b[39;00m \u001b[38;5;28;43msuper\u001b[39;49m\u001b[43m(\u001b[49m\u001b[43m)\u001b[49m\u001b[38;5;241;43m.\u001b[39;49m\u001b[38;5;21;43m__call__\u001b[39;49m\u001b[43m(\u001b[49m\u001b[43miterable_with_config\u001b[49m\u001b[43m)\u001b[49m\n",
      "File \u001b[1;32mc:\\Users\\LOAN\\AppData\\Local\\Programs\\Python\\Python313\\Lib\\site-packages\\joblib\\parallel.py:1918\u001b[0m, in \u001b[0;36mParallel.__call__\u001b[1;34m(self, iterable)\u001b[0m\n\u001b[0;32m   1916\u001b[0m     output \u001b[38;5;241m=\u001b[39m \u001b[38;5;28mself\u001b[39m\u001b[38;5;241m.\u001b[39m_get_sequential_output(iterable)\n\u001b[0;32m   1917\u001b[0m     \u001b[38;5;28mnext\u001b[39m(output)\n\u001b[1;32m-> 1918\u001b[0m     \u001b[38;5;28;01mreturn\u001b[39;00m output \u001b[38;5;28;01mif\u001b[39;00m \u001b[38;5;28mself\u001b[39m\u001b[38;5;241m.\u001b[39mreturn_generator \u001b[38;5;28;01melse\u001b[39;00m \u001b[38;5;28;43mlist\u001b[39;49m\u001b[43m(\u001b[49m\u001b[43moutput\u001b[49m\u001b[43m)\u001b[49m\n\u001b[0;32m   1920\u001b[0m \u001b[38;5;66;03m# Let's create an ID that uniquely identifies the current call. If the\u001b[39;00m\n\u001b[0;32m   1921\u001b[0m \u001b[38;5;66;03m# call is interrupted early and that the same instance is immediately\u001b[39;00m\n\u001b[0;32m   1922\u001b[0m \u001b[38;5;66;03m# re-used, this id will be used to prevent workers that were\u001b[39;00m\n\u001b[0;32m   1923\u001b[0m \u001b[38;5;66;03m# concurrently finalizing a task from the previous call to run the\u001b[39;00m\n\u001b[0;32m   1924\u001b[0m \u001b[38;5;66;03m# callback.\u001b[39;00m\n\u001b[0;32m   1925\u001b[0m \u001b[38;5;28;01mwith\u001b[39;00m \u001b[38;5;28mself\u001b[39m\u001b[38;5;241m.\u001b[39m_lock:\n",
      "File \u001b[1;32mc:\\Users\\LOAN\\AppData\\Local\\Programs\\Python\\Python313\\Lib\\site-packages\\joblib\\parallel.py:1847\u001b[0m, in \u001b[0;36mParallel._get_sequential_output\u001b[1;34m(self, iterable)\u001b[0m\n\u001b[0;32m   1845\u001b[0m \u001b[38;5;28mself\u001b[39m\u001b[38;5;241m.\u001b[39mn_dispatched_batches \u001b[38;5;241m+\u001b[39m\u001b[38;5;241m=\u001b[39m \u001b[38;5;241m1\u001b[39m\n\u001b[0;32m   1846\u001b[0m \u001b[38;5;28mself\u001b[39m\u001b[38;5;241m.\u001b[39mn_dispatched_tasks \u001b[38;5;241m+\u001b[39m\u001b[38;5;241m=\u001b[39m \u001b[38;5;241m1\u001b[39m\n\u001b[1;32m-> 1847\u001b[0m res \u001b[38;5;241m=\u001b[39m \u001b[43mfunc\u001b[49m\u001b[43m(\u001b[49m\u001b[38;5;241;43m*\u001b[39;49m\u001b[43margs\u001b[49m\u001b[43m,\u001b[49m\u001b[43m \u001b[49m\u001b[38;5;241;43m*\u001b[39;49m\u001b[38;5;241;43m*\u001b[39;49m\u001b[43mkwargs\u001b[49m\u001b[43m)\u001b[49m\n\u001b[0;32m   1848\u001b[0m \u001b[38;5;28mself\u001b[39m\u001b[38;5;241m.\u001b[39mn_completed_tasks \u001b[38;5;241m+\u001b[39m\u001b[38;5;241m=\u001b[39m \u001b[38;5;241m1\u001b[39m\n\u001b[0;32m   1849\u001b[0m \u001b[38;5;28mself\u001b[39m\u001b[38;5;241m.\u001b[39mprint_progress()\n",
      "File \u001b[1;32mc:\\Users\\LOAN\\AppData\\Local\\Programs\\Python\\Python313\\Lib\\site-packages\\sklearn\\utils\\parallel.py:139\u001b[0m, in \u001b[0;36m_FuncWrapper.__call__\u001b[1;34m(self, *args, **kwargs)\u001b[0m\n\u001b[0;32m    137\u001b[0m     config \u001b[38;5;241m=\u001b[39m {}\n\u001b[0;32m    138\u001b[0m \u001b[38;5;28;01mwith\u001b[39;00m config_context(\u001b[38;5;241m*\u001b[39m\u001b[38;5;241m*\u001b[39mconfig):\n\u001b[1;32m--> 139\u001b[0m     \u001b[38;5;28;01mreturn\u001b[39;00m \u001b[38;5;28;43mself\u001b[39;49m\u001b[38;5;241;43m.\u001b[39;49m\u001b[43mfunction\u001b[49m\u001b[43m(\u001b[49m\u001b[38;5;241;43m*\u001b[39;49m\u001b[43margs\u001b[49m\u001b[43m,\u001b[49m\u001b[43m \u001b[49m\u001b[38;5;241;43m*\u001b[39;49m\u001b[38;5;241;43m*\u001b[39;49m\u001b[43mkwargs\u001b[49m\u001b[43m)\u001b[49m\n",
      "File \u001b[1;32mc:\\Users\\LOAN\\AppData\\Local\\Programs\\Python\\Python313\\Lib\\site-packages\\sklearn\\model_selection\\_validation.py:866\u001b[0m, in \u001b[0;36m_fit_and_score\u001b[1;34m(estimator, X, y, scorer, train, test, verbose, parameters, fit_params, score_params, return_train_score, return_parameters, return_n_test_samples, return_times, return_estimator, split_progress, candidate_progress, error_score)\u001b[0m\n\u001b[0;32m    864\u001b[0m         estimator\u001b[38;5;241m.\u001b[39mfit(X_train, \u001b[38;5;241m*\u001b[39m\u001b[38;5;241m*\u001b[39mfit_params)\n\u001b[0;32m    865\u001b[0m     \u001b[38;5;28;01melse\u001b[39;00m:\n\u001b[1;32m--> 866\u001b[0m         \u001b[43mestimator\u001b[49m\u001b[38;5;241;43m.\u001b[39;49m\u001b[43mfit\u001b[49m\u001b[43m(\u001b[49m\u001b[43mX_train\u001b[49m\u001b[43m,\u001b[49m\u001b[43m \u001b[49m\u001b[43my_train\u001b[49m\u001b[43m,\u001b[49m\u001b[43m \u001b[49m\u001b[38;5;241;43m*\u001b[39;49m\u001b[38;5;241;43m*\u001b[39;49m\u001b[43mfit_params\u001b[49m\u001b[43m)\u001b[49m\n\u001b[0;32m    868\u001b[0m \u001b[38;5;28;01mexcept\u001b[39;00m \u001b[38;5;167;01mException\u001b[39;00m:\n\u001b[0;32m    869\u001b[0m     \u001b[38;5;66;03m# Note fit time as time until error\u001b[39;00m\n\u001b[0;32m    870\u001b[0m     fit_time \u001b[38;5;241m=\u001b[39m time\u001b[38;5;241m.\u001b[39mtime() \u001b[38;5;241m-\u001b[39m start_time\n",
      "File \u001b[1;32mc:\\Users\\LOAN\\AppData\\Local\\Programs\\Python\\Python313\\Lib\\site-packages\\sklearn\\base.py:1389\u001b[0m, in \u001b[0;36m_fit_context.<locals>.decorator.<locals>.wrapper\u001b[1;34m(estimator, *args, **kwargs)\u001b[0m\n\u001b[0;32m   1382\u001b[0m     estimator\u001b[38;5;241m.\u001b[39m_validate_params()\n\u001b[0;32m   1384\u001b[0m \u001b[38;5;28;01mwith\u001b[39;00m config_context(\n\u001b[0;32m   1385\u001b[0m     skip_parameter_validation\u001b[38;5;241m=\u001b[39m(\n\u001b[0;32m   1386\u001b[0m         prefer_skip_nested_validation \u001b[38;5;129;01mor\u001b[39;00m global_skip_validation\n\u001b[0;32m   1387\u001b[0m     )\n\u001b[0;32m   1388\u001b[0m ):\n\u001b[1;32m-> 1389\u001b[0m     \u001b[38;5;28;01mreturn\u001b[39;00m \u001b[43mfit_method\u001b[49m\u001b[43m(\u001b[49m\u001b[43mestimator\u001b[49m\u001b[43m,\u001b[49m\u001b[43m \u001b[49m\u001b[38;5;241;43m*\u001b[39;49m\u001b[43margs\u001b[49m\u001b[43m,\u001b[49m\u001b[43m \u001b[49m\u001b[38;5;241;43m*\u001b[39;49m\u001b[38;5;241;43m*\u001b[39;49m\u001b[43mkwargs\u001b[49m\u001b[43m)\u001b[49m\n",
      "File \u001b[1;32mc:\\Users\\LOAN\\AppData\\Local\\Programs\\Python\\Python313\\Lib\\site-packages\\sklearn\\pipeline.py:662\u001b[0m, in \u001b[0;36mPipeline.fit\u001b[1;34m(self, X, y, **params)\u001b[0m\n\u001b[0;32m    656\u001b[0m     \u001b[38;5;28;01mif\u001b[39;00m \u001b[38;5;28mself\u001b[39m\u001b[38;5;241m.\u001b[39m_final_estimator \u001b[38;5;241m!=\u001b[39m \u001b[38;5;124m\"\u001b[39m\u001b[38;5;124mpassthrough\u001b[39m\u001b[38;5;124m\"\u001b[39m:\n\u001b[0;32m    657\u001b[0m         last_step_params \u001b[38;5;241m=\u001b[39m \u001b[38;5;28mself\u001b[39m\u001b[38;5;241m.\u001b[39m_get_metadata_for_step(\n\u001b[0;32m    658\u001b[0m             step_idx\u001b[38;5;241m=\u001b[39m\u001b[38;5;28mlen\u001b[39m(\u001b[38;5;28mself\u001b[39m) \u001b[38;5;241m-\u001b[39m \u001b[38;5;241m1\u001b[39m,\n\u001b[0;32m    659\u001b[0m             step_params\u001b[38;5;241m=\u001b[39mrouted_params[\u001b[38;5;28mself\u001b[39m\u001b[38;5;241m.\u001b[39msteps[\u001b[38;5;241m-\u001b[39m\u001b[38;5;241m1\u001b[39m][\u001b[38;5;241m0\u001b[39m]],\n\u001b[0;32m    660\u001b[0m             all_params\u001b[38;5;241m=\u001b[39mparams,\n\u001b[0;32m    661\u001b[0m         )\n\u001b[1;32m--> 662\u001b[0m         \u001b[38;5;28;43mself\u001b[39;49m\u001b[38;5;241;43m.\u001b[39;49m\u001b[43m_final_estimator\u001b[49m\u001b[38;5;241;43m.\u001b[39;49m\u001b[43mfit\u001b[49m\u001b[43m(\u001b[49m\u001b[43mXt\u001b[49m\u001b[43m,\u001b[49m\u001b[43m \u001b[49m\u001b[43my\u001b[49m\u001b[43m,\u001b[49m\u001b[43m \u001b[49m\u001b[38;5;241;43m*\u001b[39;49m\u001b[38;5;241;43m*\u001b[39;49m\u001b[43mlast_step_params\u001b[49m\u001b[43m[\u001b[49m\u001b[38;5;124;43m\"\u001b[39;49m\u001b[38;5;124;43mfit\u001b[39;49m\u001b[38;5;124;43m\"\u001b[39;49m\u001b[43m]\u001b[49m\u001b[43m)\u001b[49m\n\u001b[0;32m    664\u001b[0m \u001b[38;5;28;01mreturn\u001b[39;00m \u001b[38;5;28mself\u001b[39m\n",
      "File \u001b[1;32mc:\\Users\\LOAN\\AppData\\Local\\Programs\\Python\\Python313\\Lib\\site-packages\\sklearn\\base.py:1389\u001b[0m, in \u001b[0;36m_fit_context.<locals>.decorator.<locals>.wrapper\u001b[1;34m(estimator, *args, **kwargs)\u001b[0m\n\u001b[0;32m   1382\u001b[0m     estimator\u001b[38;5;241m.\u001b[39m_validate_params()\n\u001b[0;32m   1384\u001b[0m \u001b[38;5;28;01mwith\u001b[39;00m config_context(\n\u001b[0;32m   1385\u001b[0m     skip_parameter_validation\u001b[38;5;241m=\u001b[39m(\n\u001b[0;32m   1386\u001b[0m         prefer_skip_nested_validation \u001b[38;5;129;01mor\u001b[39;00m global_skip_validation\n\u001b[0;32m   1387\u001b[0m     )\n\u001b[0;32m   1388\u001b[0m ):\n\u001b[1;32m-> 1389\u001b[0m     \u001b[38;5;28;01mreturn\u001b[39;00m \u001b[43mfit_method\u001b[49m\u001b[43m(\u001b[49m\u001b[43mestimator\u001b[49m\u001b[43m,\u001b[49m\u001b[43m \u001b[49m\u001b[38;5;241;43m*\u001b[39;49m\u001b[43margs\u001b[49m\u001b[43m,\u001b[49m\u001b[43m \u001b[49m\u001b[38;5;241;43m*\u001b[39;49m\u001b[38;5;241;43m*\u001b[39;49m\u001b[43mkwargs\u001b[49m\u001b[43m)\u001b[49m\n",
      "File \u001b[1;32mc:\\Users\\LOAN\\AppData\\Local\\Programs\\Python\\Python313\\Lib\\site-packages\\sklearn\\linear_model\\_base.py:640\u001b[0m, in \u001b[0;36mLinearRegression.fit\u001b[1;34m(self, X, y, sample_weight)\u001b[0m\n\u001b[0;32m    638\u001b[0m \u001b[38;5;28;01mif\u001b[39;00m \u001b[38;5;28mself\u001b[39m\u001b[38;5;241m.\u001b[39mpositive:\n\u001b[0;32m    639\u001b[0m     \u001b[38;5;28;01mif\u001b[39;00m y\u001b[38;5;241m.\u001b[39mndim \u001b[38;5;241m<\u001b[39m \u001b[38;5;241m2\u001b[39m:\n\u001b[1;32m--> 640\u001b[0m         \u001b[38;5;28mself\u001b[39m\u001b[38;5;241m.\u001b[39mcoef_ \u001b[38;5;241m=\u001b[39m \u001b[43moptimize\u001b[49m\u001b[38;5;241;43m.\u001b[39;49m\u001b[43mnnls\u001b[49m\u001b[43m(\u001b[49m\u001b[43mX\u001b[49m\u001b[43m,\u001b[49m\u001b[43m \u001b[49m\u001b[43my\u001b[49m\u001b[43m)\u001b[49m[\u001b[38;5;241m0\u001b[39m]\n\u001b[0;32m    641\u001b[0m     \u001b[38;5;28;01melse\u001b[39;00m:\n\u001b[0;32m    642\u001b[0m         \u001b[38;5;66;03m# scipy.optimize.nnls cannot handle y with shape (M, K)\u001b[39;00m\n\u001b[0;32m    643\u001b[0m         outs \u001b[38;5;241m=\u001b[39m Parallel(n_jobs\u001b[38;5;241m=\u001b[39mn_jobs_)(\n\u001b[0;32m    644\u001b[0m             delayed(optimize\u001b[38;5;241m.\u001b[39mnnls)(X, y[:, j]) \u001b[38;5;28;01mfor\u001b[39;00m j \u001b[38;5;129;01min\u001b[39;00m \u001b[38;5;28mrange\u001b[39m(y\u001b[38;5;241m.\u001b[39mshape[\u001b[38;5;241m1\u001b[39m])\n\u001b[0;32m    645\u001b[0m         )\n",
      "File \u001b[1;32mc:\\Users\\LOAN\\AppData\\Local\\Programs\\Python\\Python313\\Lib\\site-packages\\scipy\\optimize\\_nnls.py:93\u001b[0m, in \u001b[0;36mnnls\u001b[1;34m(A, b, maxiter, atol)\u001b[0m\n\u001b[0;32m     91\u001b[0m \u001b[38;5;28;01mif\u001b[39;00m \u001b[38;5;129;01mnot\u001b[39;00m maxiter:\n\u001b[0;32m     92\u001b[0m     maxiter \u001b[38;5;241m=\u001b[39m \u001b[38;5;241m3\u001b[39m\u001b[38;5;241m*\u001b[39mn\n\u001b[1;32m---> 93\u001b[0m x, rnorm, info \u001b[38;5;241m=\u001b[39m \u001b[43m_nnls\u001b[49m\u001b[43m(\u001b[49m\u001b[43mA\u001b[49m\u001b[43m,\u001b[49m\u001b[43m \u001b[49m\u001b[43mb\u001b[49m\u001b[43m,\u001b[49m\u001b[43m \u001b[49m\u001b[43mmaxiter\u001b[49m\u001b[43m)\u001b[49m\n\u001b[0;32m     94\u001b[0m \u001b[38;5;28;01mif\u001b[39;00m info \u001b[38;5;241m==\u001b[39m \u001b[38;5;241m-\u001b[39m\u001b[38;5;241m1\u001b[39m:\n\u001b[0;32m     95\u001b[0m     \u001b[38;5;28;01mraise\u001b[39;00m \u001b[38;5;167;01mRuntimeError\u001b[39;00m(\u001b[38;5;124m\"\u001b[39m\u001b[38;5;124mMaximum number of iterations reached.\u001b[39m\u001b[38;5;124m\"\u001b[39m)\n",
      "\u001b[1;31mKeyboardInterrupt\u001b[0m: "
     ]
    }
   ],
   "source": [
    "from sklearn.model_selection import RandomizedSearchCV\n",
    "param_space = {\n",
    "    'mlr_model__fit_intercept': [True, False],\n",
    "    \n",
    "    'mlr_model__copy_X': [True, False],\n",
    "    'mlr_model__n_jobs': [1, 5],\n",
    "    'mlr_model__positive': [True, False],\n",
    "   \n",
    "}\n",
    "random_search = RandomizedSearchCV(pipe, param_space, n_iter=2,cv=5)\n",
    "random_search.fit(X_train, y_train)\n",
    "print('Best parameters found:', random_search.best_params_)\n",
    "print('Best score:', random_search.best_score_)"
   ]
  },
  {
   "cell_type": "code",
   "execution_count": 25,
   "id": "0ac8ac91",
   "metadata": {},
   "outputs": [
    {
     "name": "stdout",
     "output_type": "stream",
     "text": [
      "Dự đoán lợi nhuận: [473.47355656]\n"
     ]
    }
   ],
   "source": [
    "# xây dựng ứng dụng dự án profit\n",
    "# gold =10.82 estate=37.50 scryto=1009.23 stock=96.62 class=A risk=Y\n",
    "inputdf = pd.DataFrame([[10.82, 37.50, 1009.23, 96.62, 'A', 'Y']],\n",
    "                       columns=['gold', 'estate', 'cryto', 'stock', 'class', 'risk'])\n",
    "predicted_value = pipe.predict(inputdf)\n",
    "print('Dự đoán lợi nhuận:', predicted_value)"
   ]
  }
 ],
 "metadata": {
  "kernelspec": {
   "display_name": "Python 3",
   "language": "python",
   "name": "python3"
  },
  "language_info": {
   "codemirror_mode": {
    "name": "ipython",
    "version": 3
   },
   "file_extension": ".py",
   "mimetype": "text/x-python",
   "name": "python",
   "nbconvert_exporter": "python",
   "pygments_lexer": "ipython3",
   "version": "3.13.2"
  }
 },
 "nbformat": 4,
 "nbformat_minor": 5
}
